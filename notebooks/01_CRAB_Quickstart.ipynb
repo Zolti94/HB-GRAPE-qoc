{
  "cells": [
    {
      "cell_type": "markdown",
      "metadata": {},
      "source": [
        "# **CRAB Quickstart**\n",
        "\n",
        "Goal: run a single CRAB optimization using the refactored `src/` workflows starting from the default baseline pulses.\n",
        "Quickstart: edit the Parameter Panel, run all cells, then review the Results Summary.\n",
        "\n",
        "Sections:\n",
        "- [Parameter Panel](#Parameter-Panel)\n",
        "- [Run Experiment](#Run-Experiment)\n",
        "- [Standard Plots](#Standard-Plots)\n",
        "- [Penalty History](#Penalty-History)\n",
        "- [Results Summary](#Results-Summary)\n",
        "- [Troubleshooting](#Troubleshooting)\n"
      ]
    },
    {
      "cell_type": "markdown",
      "metadata": {},
      "source": [
        "## Imports\n"
      ]
    },
    {
      "cell_type": "code",
      "metadata": {},
      "execution_count": null,
      "outputs": [],
      "source": [
        "# Imports\n",
        "from pathlib import Path\n",
        "import json\n",
        "import numpy as np\n",
        "\n",
        "from src import (\n",
        "    ExperimentConfig,\n",
        "    override_from_dict,\n",
        "    run_experiment,\n",
        "    plot_cost_history,\n",
        "    plot_pulses,\n",
        "    plot_summary,\n",
        "    plot_penalties_history,\n",
        "    Result,\n",
        ")\n",
        "from src.optimizers.base import load_crab_problem\n",
        "\n"
      ]
    },
    {
      "cell_type": "markdown",
      "metadata": {},
      "source": [
        "## Parameter Panel\n"
      ]
    },
    {
      "cell_type": "code",
      "metadata": {
        "tags": [
          "parameters"
        ]
      },
      "execution_count": null,
      "outputs": [],
      "source": [
        "# @title Parameter Panel\n",
        "BASELINE_ARRAYS = Path('data/baselines/_baseline_crab/arrays.npz')\n",
        "with np.load(BASELINE_ARRAYS) as baseline_npz:\n",
        "    arrays = {key: np.array(baseline_npz[key]) for key in baseline_npz.files}\n",
        "\n",
        "t_us = arrays['t'].astype(float)\n",
        "T_US = float(arrays['T'])\n",
        "M = int(arrays['Nt'])\n",
        "delta0 = arrays['Delta0'].astype(float)\n",
        "delta_max_rad_per_us = float(np.abs(delta0).max())\n",
        "delta_max_MHz = delta_max_rad_per_us / (2 * np.pi)\n",
        "default_K = int(arrays['CRAB_BASIS_OMEGA'].shape[1])\n",
        "default_omegas = (np.arange(1, default_K + 1) * np.pi / T_US).tolist()\n",
        "\n",
        "BASELINE_DATA = {\n",
        "    't_us': t_us,\n",
        "    'dt_us': float(np.diff(t_us).mean()),\n",
        "    'omega_base': arrays['Omega0'].astype(float),\n",
        "    'delta_base': delta0,\n",
        "    'rho0': arrays['rho0'],\n",
        "    'target': arrays['target'],\n",
        "    'delta_max_rad_per_us': delta_max_rad_per_us,\n",
        "}\n",
        "\n",
        "user_params = {\n",
        "    'run_name': None,\n",
        "    'output_dir': 'results/quickstart',\n",
        "    'objective': 'terminal',  # terminal | path | ensemble\n",
        "    'time_grid': {'t0_us': float(t_us[0]), 't1_us': float(t_us[-1]), 'M': M},\n",
        "    'crab': {\n",
        "        'K': default_K,\n",
        "        'omegas_rad_per_us': default_omegas,\n",
        "        'phases': [0.0] * default_K,\n",
        "        'use_delta': True,\n",
        "    },\n",
        "    'weights': {'w_power': 0.0, 'w_neg': 0.0, 'neg_kappa': 10.0},\n",
        "    'optimizer': {\n",
        "        'method': 'adam',\n",
        "        'max_iters': 200,\n",
        "        'learning_rate': 0.05,\n",
        "        'beta1': 0.9,\n",
        "        'beta2': 0.999,\n",
        "        'epsilon': 1e-8,\n",
        "        'grad_clip': None,\n",
        "    },\n",
        "    'path': {'reference': 'adiabatic_ground_state'},\n",
        "    'ensemble': {\n",
        "        'beta_min': 0.9,\n",
        "        'beta_max': 1.1,\n",
        "        'num_beta': 5,\n",
        "        'detuning_MHz_min': -delta_max_MHz,\n",
        "        'detuning_MHz_max': delta_max_MHz,\n",
        "        'num_detuning': 5,\n",
        "    },\n",
        "}\n",
        "\n",
        "overrides = {\n",
        "    'baseline': {'name': 'default'},\n",
        "    'run_name': user_params['run_name'],\n",
        "    'artifacts_root': str(Path(user_params['output_dir']).resolve()),\n",
        "    'optimizer_options': {\n",
        "        'method': user_params['optimizer']['method'],\n",
        "        'max_iters': int(user_params['optimizer']['max_iters']),\n",
        "        'learning_rate': float(user_params['optimizer']['learning_rate']),\n",
        "        'beta1': float(user_params['optimizer']['beta1']),\n",
        "        'beta2': float(user_params['optimizer']['beta2']),\n",
        "        'epsilon': float(user_params['optimizer']['epsilon']),\n",
        "        'grad_clip': user_params['optimizer']['grad_clip'],\n",
        "        'optimize_delta': bool(user_params['crab']['use_delta']),\n",
        "        'K': int(user_params['crab']['K']),\n",
        "        'omegas_rad_per_us': user_params['crab']['omegas_rad_per_us'],\n",
        "        'phases': user_params['crab']['phases'],\n",
        "    },\n",
        "    'penalties': {\n",
        "        'power_weight': float(user_params['weights']['w_power']),\n",
        "        'neg_weight': float(user_params['weights']['w_neg']),\n",
        "        'neg_kappa': float(user_params['weights']['neg_kappa']),\n",
        "    },\n",
        "    'metadata': {\n",
        "        'objective': user_params['objective'],\n",
        "        'path_params': user_params['path'],\n",
        "        'ensemble_params': user_params['ensemble'],\n",
        "    },\n",
        "}\n",
        "\n",
        "cfg = override_from_dict(ExperimentConfig(), overrides)\n",
        "cfg.metadata.setdefault('baseline_arrays', str(BASELINE_ARRAYS))\n",
        "cfg.metadata['delta_max_rad_per_us'] = delta_max_rad_per_us\n",
        "print(json.dumps(cfg.to_dict(), indent=2))\n",
        "cfg\n",
        "\n"
      ]
    },
    {
      "cell_type": "markdown",
      "metadata": {},
      "source": [
        "## Run Experiment\n"
      ]
    },
    {
      "cell_type": "code",
      "metadata": {},
      "execution_count": null,
      "outputs": [],
      "source": [
        "# @title Run Experiment {display-mode: \"code\"}\n",
        "result: Result = run_experiment(cfg, method=user_params['optimizer']['method'])\n",
        "result\n",
        "\n"
      ]
    },
    {
      "cell_type": "markdown",
      "metadata": {},
      "source": [
        "## Standard Plots\n"
      ]
    },
    {
      "cell_type": "code",
      "metadata": {},
      "execution_count": null,
      "outputs": [],
      "source": [
        "# @title Standard Plots\n",
        "_ = plot_cost_history(result)\n",
        "_ = plot_pulses(result)\n",
        "_ = plot_summary(result)\n",
        "\n"
      ]
    },
    {
      "cell_type": "markdown",
      "metadata": {},
      "source": [
        "## Penalty History\n"
      ]
    },
    {
      "cell_type": "code",
      "metadata": {},
      "execution_count": null,
      "outputs": [],
      "source": [
        "# @title Penalty History\n",
        "_ = plot_penalties_history(result)\n",
        "\n"
      ]
    },
    {
      "cell_type": "markdown",
      "metadata": {},
      "source": [
        "## Results Summary\n"
      ]
    },
    {
      "cell_type": "code",
      "metadata": {},
      "execution_count": null,
      "outputs": [],
      "source": [
        "    # @title Results Summary\n",
        "    from pprint import pprint\n",
        "\n",
        "    metrics_table = {\n",
        "        'terminal_infidelity': result.final_metrics.get('terminal'),\n",
        "        'path_infidelity': result.final_metrics.get('path'),\n",
        "        'ensemble_infidelity': result.final_metrics.get('ensemble'),\n",
        "        'power_penalty': result.final_metrics.get('power_penalty'),\n",
        "        'neg_penalty': result.final_metrics.get('neg_penalty'),\n",
        "        'total_cost': result.final_metrics.get('total'),\n",
        "        'runtime_seconds': result.final_metrics.get('runtime_s'),\n",
        "    }\n",
        "    print('Final metrics:')\n",
        "    for key, value in metrics_table.items():\n",
        "        if value is not None:\n",
        "            print(f\"  {key:>20}: {value:.6g}\")\n",
        "        else:\n",
        "            print(f\"  {key:>20}: n/a\")\n",
        "    print('\n",
        "Artifacts saved in', result.artifacts_dir)\n",
        "    for artifact in sorted(Path(result.artifacts_dir).iterdir()):\n",
        "        print(' \u2022', artifact.name)\n",
        "\n"
      ]
    },
    {
      "cell_type": "markdown",
      "metadata": {},
      "source": [
        "## Troubleshooting\n",
        "\n",
        "- Learning rate too aggressive? Decrease `learning_rate` (Adam/const) or `alpha0` (line-search).\n",
        "- Cost plateaus early? Raise `max_iters` or relax penalty weights so the optimizer can explore.\n",
        "- Armijo fails repeatedly? Tune `ls_beta` (0.3\u20130.7) and `ls_sigma` (1e-4\u20131e-2).\n",
        "- Negativity penalty dominates? Reduce `w_neg` or increase `neg_kappa`.\n",
        "- Basis too restrictive? Increase `K` or supply custom `omegas_rad_per_us`/`phases`.\n",
        "- Detuning updates unstable? Set `use_delta` to `False` to keep the baseline detuning.\n",
        "- Ensemble sweeps slow? Trim `num_beta` / `num_detuning` or enable `grad_clip`.\n",
        "- Large artifacts folder? Change `output_dir` or reuse an existing `run_name` with `cfg` edits.\n"
      ]
    }
  ],
  "metadata": {
    "kernelspec": {
      "display_name": "base",
      "language": "python",
      "name": "python3"
    },
    "language_info": {
      "codemirror_mode": {
        "name": "ipython",
        "version": 3
      },
      "file_extension": ".py",
      "mimetype": "text/x-python",
      "name": "python",
      "nbconvert_exporter": "python",
      "pygments_lexer": "ipython3",
      "version": "3.12.3"
    }
  },
  "nbformat": 4,
  "nbformat_minor": 5
}
