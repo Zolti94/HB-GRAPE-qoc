{
 "cells": [
  {
   "cell_type": "markdown",
   "id": "c6f1f14f",
   "metadata": {},
   "source": [
    "# Step-size Methods vs Pulses & Runtime\n",
    "\n",
    "Compares const, linesearch (Armijo), and adam under identical baseline, basis, and stopping.\n",
    "Objective fixed: terminal. Artifacts saved under `artifacts/<run_name>/<method>/...`.\n",
    "Figures added later."
   ]
  },
  {
   "cell_type": "code",
   "execution_count": null,
   "id": "24073edc",
   "metadata": {},
   "outputs": [],
   "source": [
    "# Imports\n",
    "from pathlib import Path\n",
    "import sys\n",
    "import os\n",
    "\n",
    "notebook_dir = Path(__file__).resolve().parent if '__file__' in globals() else Path.cwd()\n",
    "repo_root = notebook_dir.parent if notebook_dir.name == 'notebooks' else notebook_dir\n",
    "if str(repo_root) not in map(str, sys.path):\n",
    "    sys.path.insert(0, str(repo_root))\n",
    "os.chdir(repo_root)\n",
    "\n",
    "from src import TimeGridSpec, PulseShapeSpec, BasisSpec\n"
   ]
  },
  {
   "cell_type": "code",
   "execution_count": null,
   "id": "9087914d",
   "metadata": {},
   "outputs": [],
   "source": [
    "# Experiment configuration inputs\n",
    "max_time_min = 5.0  # per optimizer runtime budget in minutes\n",
    "\n",
    "omega_shape = {'kind': 'polynomial', 'area_pi': 1.0}\n",
    "delta_shape = {'kind': 'linear_chirp', 'area_pi': 0.0, 'amplitude_scale': 40.0}\n",
    "K_omega = 6\n",
    "K_delta = 0\n",
    "\n",
    "max_iters = 200\n",
    "grad_tol = 1e-4\n",
    "rtol = 1e-5\n",
    "\n",
    "const_learning_rate = 0.05\n",
    "alpha0 = 0.1\n",
    "ls_beta = 0.5\n",
    "ls_sigma = 1e-4\n",
    "ls_max_backtracks = 12\n",
    "adam_learning_rate = 0.05\n",
    "beta1 = 0.9\n",
    "beta2 = 0.999\n",
    "epsilon = 1e-8\n",
    "\n",
    "power_weight = 0.0\n",
    "neg_weight = 0.0\n",
    "neg_kappa = 10.0\n",
    "\n",
    "artifact_root = Path('./artifacts')\n",
    "run_name = 'stepsize-comparison'\n",
    "objective = 'terminal'\n"
   ]
  }
 ],
 "metadata": {},
 "nbformat": 4,
 "nbformat_minor": 5
}
